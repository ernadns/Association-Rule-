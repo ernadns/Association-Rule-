{
  "nbformat": 4,
  "nbformat_minor": 0,
  "metadata": {
    "kernelspec": {
      "display_name": "Python 2",
      "language": "python",
      "name": "python2"
    },
    "language_info": {
      "codemirror_mode": {
        "name": "ipython",
        "version": 2
      },
      "file_extension": ".py",
      "mimetype": "text/x-python",
      "name": "python",
      "nbconvert_exporter": "python",
      "pygments_lexer": "ipython2",
      "version": "2.7.15"
    },
    "colab": {
      "name": "Association Rule.ipynb",
      "provenance": [],
      "toc_visible": true,
      "include_colab_link": true
    }
  },
  "cells": [
    {
      "cell_type": "markdown",
      "metadata": {
        "id": "view-in-github",
        "colab_type": "text"
      },
      "source": [
        "<a href=\"https://colab.research.google.com/github/ernadns/Association-Rule-/blob/main/Association_Rule.ipynb\" target=\"_parent\"><img src=\"https://colab.research.google.com/assets/colab-badge.svg\" alt=\"Open In Colab\"/></a>"
      ]
    },
    {
      "cell_type": "code",
      "metadata": {
        "colab": {
          "base_uri": "https://localhost:8080/"
        },
        "id": "AFH_YQ8x1aZZ",
        "outputId": "12bc9af5-6605-4c76-d459-99d238167e68"
      },
      "source": [
        "!pip install apyori"
      ],
      "execution_count": 3,
      "outputs": [
        {
          "output_type": "stream",
          "text": [
            "Collecting apyori\n",
            "  Downloading https://files.pythonhosted.org/packages/5e/62/5ffde5c473ea4b033490617ec5caa80d59804875ad3c3c57c0976533a21a/apyori-1.1.2.tar.gz\n",
            "Building wheels for collected packages: apyori\n",
            "  Building wheel for apyori (setup.py) ... \u001b[?25l\u001b[?25hdone\n",
            "  Created wheel for apyori: filename=apyori-1.1.2-cp27-none-any.whl size=5976 sha256=40cf5a839076b55724a2547bb702610571bb20f950ff73a040e2259377155803\n",
            "  Stored in directory: /root/.cache/pip/wheels/5d/92/bb/474bbadbc8c0062b9eb168f69982a0443263f8ab1711a8cad0\n",
            "Successfully built apyori\n",
            "Installing collected packages: apyori\n",
            "Successfully installed apyori-1.1.2\n"
          ],
          "name": "stdout"
        }
      ]
    },
    {
      "cell_type": "code",
      "metadata": {
        "id": "DAuOb5AN1joy"
      },
      "source": [
        "import numpy as np  \r\n",
        "import matplotlib.pyplot as plt  \r\n",
        "import pandas as pd  \r\n",
        "from apyori import apriori "
      ],
      "execution_count": 4,
      "outputs": []
    },
    {
      "cell_type": "code",
      "metadata": {
        "colab": {
          "resources": {
            "http://localhost:8080/nbextensions/google.colab/files.js": {
              "data": "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",
              "ok": true,
              "headers": [
                [
                  "content-type",
                  "application/javascript"
                ]
              ],
              "status": 200,
              "status_text": ""
            }
          },
          "base_uri": "https://localhost:8080/",
          "height": 89
        },
        "id": "hwDo_qKUeJty",
        "outputId": "2c817d88-cfab-4c9d-c9bd-3ba287f932be"
      },
      "source": [
        "from google.colab import files\r\n",
        "\r\n",
        "uploaded = files.upload()\r\n",
        "\r\n",
        "for fn in uploaded.keys():\r\n",
        "  print('User uploaded file \"{name}\" with length {length} bytes'.format(\r\n",
        "      name=fn, length=len(uploaded[fn])))"
      ],
      "execution_count": 6,
      "outputs": [
        {
          "output_type": "display_data",
          "data": {
            "text/plain": [
              "<IPython.core.display.HTML object>"
            ],
            "text/html": [
              "\n",
              "     <input type=\"file\" id=\"files-403eb8f7-c49a-4f65-b474-917687c7cd24\" name=\"files[]\" multiple disabled\n",
              "        style=\"border:none\" />\n",
              "     <output id=\"result-403eb8f7-c49a-4f65-b474-917687c7cd24\">\n",
              "      Upload widget is only available when the cell has been executed in the\n",
              "      current browser session. Please rerun this cell to enable.\n",
              "      </output>\n",
              "      <script src=\"/nbextensions/google.colab/files.js\"></script> "
            ]
          },
          "metadata": {
            "tags": []
          }
        },
        {
          "output_type": "stream",
          "text": [
            "Saving Market_Basket_Optimisation.csv to Market_Basket_Optimisation.csv\n",
            "User uploaded file \"Market_Basket_Optimisation.csv\" with length 302908 bytes\n"
          ],
          "name": "stdout"
        }
      ]
    },
    {
      "cell_type": "code",
      "metadata": {
        "colab": {
          "base_uri": "https://localhost:8080/",
          "height": 292
        },
        "id": "oqEiMhv600pi",
        "outputId": "0834ac55-d5d7-4200-be94-318d3f351350"
      },
      "source": [
        "store_data=pd.read_csv(\"Market_Basket_Optimisation.csv\")\n",
        "store_data.head()"
      ],
      "execution_count": 11,
      "outputs": [
        {
          "output_type": "execute_result",
          "data": {
            "text/plain": [
              "           shrimp    almonds     avocado    vegetables mix green grapes  \\\n",
              "0         burgers  meatballs        eggs               NaN          NaN   \n",
              "1         chutney        NaN         NaN               NaN          NaN   \n",
              "2          turkey    avocado         NaN               NaN          NaN   \n",
              "3   mineral water       milk  energy bar  whole wheat rice    green tea   \n",
              "4  low fat yogurt        NaN         NaN               NaN          NaN   \n",
              "\n",
              "  whole weat flour yams cottage cheese energy drink tomato juice  \\\n",
              "0              NaN  NaN            NaN          NaN          NaN   \n",
              "1              NaN  NaN            NaN          NaN          NaN   \n",
              "2              NaN  NaN            NaN          NaN          NaN   \n",
              "3              NaN  NaN            NaN          NaN          NaN   \n",
              "4              NaN  NaN            NaN          NaN          NaN   \n",
              "\n",
              "  low fat yogurt green tea honey salad mineral water salmon antioxydant juice  \\\n",
              "0            NaN       NaN   NaN   NaN           NaN    NaN               NaN   \n",
              "1            NaN       NaN   NaN   NaN           NaN    NaN               NaN   \n",
              "2            NaN       NaN   NaN   NaN           NaN    NaN               NaN   \n",
              "3            NaN       NaN   NaN   NaN           NaN    NaN               NaN   \n",
              "4            NaN       NaN   NaN   NaN           NaN    NaN               NaN   \n",
              "\n",
              "  frozen smoothie spinach  olive oil  \n",
              "0             NaN     NaN        NaN  \n",
              "1             NaN     NaN        NaN  \n",
              "2             NaN     NaN        NaN  \n",
              "3             NaN     NaN        NaN  \n",
              "4             NaN     NaN        NaN  "
            ],
            "text/html": [
              "<div>\n",
              "<style scoped>\n",
              "    .dataframe tbody tr th:only-of-type {\n",
              "        vertical-align: middle;\n",
              "    }\n",
              "\n",
              "    .dataframe tbody tr th {\n",
              "        vertical-align: top;\n",
              "    }\n",
              "\n",
              "    .dataframe thead th {\n",
              "        text-align: right;\n",
              "    }\n",
              "</style>\n",
              "<table border=\"1\" class=\"dataframe\">\n",
              "  <thead>\n",
              "    <tr style=\"text-align: right;\">\n",
              "      <th></th>\n",
              "      <th>shrimp</th>\n",
              "      <th>almonds</th>\n",
              "      <th>avocado</th>\n",
              "      <th>vegetables mix</th>\n",
              "      <th>green grapes</th>\n",
              "      <th>whole weat flour</th>\n",
              "      <th>yams</th>\n",
              "      <th>cottage cheese</th>\n",
              "      <th>energy drink</th>\n",
              "      <th>tomato juice</th>\n",
              "      <th>low fat yogurt</th>\n",
              "      <th>green tea</th>\n",
              "      <th>honey</th>\n",
              "      <th>salad</th>\n",
              "      <th>mineral water</th>\n",
              "      <th>salmon</th>\n",
              "      <th>antioxydant juice</th>\n",
              "      <th>frozen smoothie</th>\n",
              "      <th>spinach</th>\n",
              "      <th>olive oil</th>\n",
              "    </tr>\n",
              "  </thead>\n",
              "  <tbody>\n",
              "    <tr>\n",
              "      <th>0</th>\n",
              "      <td>burgers</td>\n",
              "      <td>meatballs</td>\n",
              "      <td>eggs</td>\n",
              "      <td>NaN</td>\n",
              "      <td>NaN</td>\n",
              "      <td>NaN</td>\n",
              "      <td>NaN</td>\n",
              "      <td>NaN</td>\n",
              "      <td>NaN</td>\n",
              "      <td>NaN</td>\n",
              "      <td>NaN</td>\n",
              "      <td>NaN</td>\n",
              "      <td>NaN</td>\n",
              "      <td>NaN</td>\n",
              "      <td>NaN</td>\n",
              "      <td>NaN</td>\n",
              "      <td>NaN</td>\n",
              "      <td>NaN</td>\n",
              "      <td>NaN</td>\n",
              "      <td>NaN</td>\n",
              "    </tr>\n",
              "    <tr>\n",
              "      <th>1</th>\n",
              "      <td>chutney</td>\n",
              "      <td>NaN</td>\n",
              "      <td>NaN</td>\n",
              "      <td>NaN</td>\n",
              "      <td>NaN</td>\n",
              "      <td>NaN</td>\n",
              "      <td>NaN</td>\n",
              "      <td>NaN</td>\n",
              "      <td>NaN</td>\n",
              "      <td>NaN</td>\n",
              "      <td>NaN</td>\n",
              "      <td>NaN</td>\n",
              "      <td>NaN</td>\n",
              "      <td>NaN</td>\n",
              "      <td>NaN</td>\n",
              "      <td>NaN</td>\n",
              "      <td>NaN</td>\n",
              "      <td>NaN</td>\n",
              "      <td>NaN</td>\n",
              "      <td>NaN</td>\n",
              "    </tr>\n",
              "    <tr>\n",
              "      <th>2</th>\n",
              "      <td>turkey</td>\n",
              "      <td>avocado</td>\n",
              "      <td>NaN</td>\n",
              "      <td>NaN</td>\n",
              "      <td>NaN</td>\n",
              "      <td>NaN</td>\n",
              "      <td>NaN</td>\n",
              "      <td>NaN</td>\n",
              "      <td>NaN</td>\n",
              "      <td>NaN</td>\n",
              "      <td>NaN</td>\n",
              "      <td>NaN</td>\n",
              "      <td>NaN</td>\n",
              "      <td>NaN</td>\n",
              "      <td>NaN</td>\n",
              "      <td>NaN</td>\n",
              "      <td>NaN</td>\n",
              "      <td>NaN</td>\n",
              "      <td>NaN</td>\n",
              "      <td>NaN</td>\n",
              "    </tr>\n",
              "    <tr>\n",
              "      <th>3</th>\n",
              "      <td>mineral water</td>\n",
              "      <td>milk</td>\n",
              "      <td>energy bar</td>\n",
              "      <td>whole wheat rice</td>\n",
              "      <td>green tea</td>\n",
              "      <td>NaN</td>\n",
              "      <td>NaN</td>\n",
              "      <td>NaN</td>\n",
              "      <td>NaN</td>\n",
              "      <td>NaN</td>\n",
              "      <td>NaN</td>\n",
              "      <td>NaN</td>\n",
              "      <td>NaN</td>\n",
              "      <td>NaN</td>\n",
              "      <td>NaN</td>\n",
              "      <td>NaN</td>\n",
              "      <td>NaN</td>\n",
              "      <td>NaN</td>\n",
              "      <td>NaN</td>\n",
              "      <td>NaN</td>\n",
              "    </tr>\n",
              "    <tr>\n",
              "      <th>4</th>\n",
              "      <td>low fat yogurt</td>\n",
              "      <td>NaN</td>\n",
              "      <td>NaN</td>\n",
              "      <td>NaN</td>\n",
              "      <td>NaN</td>\n",
              "      <td>NaN</td>\n",
              "      <td>NaN</td>\n",
              "      <td>NaN</td>\n",
              "      <td>NaN</td>\n",
              "      <td>NaN</td>\n",
              "      <td>NaN</td>\n",
              "      <td>NaN</td>\n",
              "      <td>NaN</td>\n",
              "      <td>NaN</td>\n",
              "      <td>NaN</td>\n",
              "      <td>NaN</td>\n",
              "      <td>NaN</td>\n",
              "      <td>NaN</td>\n",
              "      <td>NaN</td>\n",
              "      <td>NaN</td>\n",
              "    </tr>\n",
              "  </tbody>\n",
              "</table>\n",
              "</div>"
            ]
          },
          "metadata": {
            "tags": []
          },
          "execution_count": 11
        }
      ]
    },
    {
      "cell_type": "markdown",
      "metadata": {
        "id": "z7q4vJf900po"
      },
      "source": [
        "## Data Preprocessing"
      ]
    },
    {
      "cell_type": "code",
      "metadata": {
        "id": "AN-7zQ5z00pq"
      },
      "source": [
        "# dataset yang dibutuhkan adalah data dengan format list dalam list,\n",
        "# di mana keseluruhan dataset adalah list yang berisi masing-masing transaksi yang juga berupa list\n",
        "\n",
        "records = []  \n",
        "for i in range(0, 7500):  \n",
        "    records.append([str(store_data.values[i,j]) for j in range(0, 20)])"
      ],
      "execution_count": 12,
      "outputs": []
    },
    {
      "cell_type": "markdown",
      "metadata": {
        "id": "Wo6Q-CMB00ps"
      },
      "source": [
        "## Applying apriori"
      ]
    },
    {
      "cell_type": "code",
      "metadata": {
        "collapsed": true,
        "id": "dhrZ1CW-00pt"
      },
      "source": [
        "association_rules = apriori(records, min_support=0.0045, min_confidence=0.2, min_lift=3, min_length=2)  \n",
        "association_results = list(association_rules)"
      ],
      "execution_count": 19,
      "outputs": []
    },
    {
      "cell_type": "code",
      "metadata": {
        "colab": {
          "base_uri": "https://localhost:8080/"
        },
        "id": "AmIuUwWI00pw",
        "outputId": "20428c5d-b7e0-40c3-e396-fc18c86c2367"
      },
      "source": [
        "print(len(association_results)) "
      ],
      "execution_count": 20,
      "outputs": [
        {
          "output_type": "stream",
          "text": [
            "48\n"
          ],
          "name": "stdout"
        }
      ]
    },
    {
      "cell_type": "code",
      "metadata": {
        "colab": {
          "base_uri": "https://localhost:8080/"
        },
        "id": "0XiUj43s00pz",
        "outputId": "257b9fee-1c82-4e06-dd1f-68f52c4a9fe5"
      },
      "source": [
        "print(association_results[0]) "
      ],
      "execution_count": 21,
      "outputs": [
        {
          "output_type": "stream",
          "text": [
            "RelationRecord(items=frozenset(['chicken', 'light cream']), support=0.004533333333333334, ordered_statistics=[OrderedStatistic(items_base=frozenset(['light cream']), items_add=frozenset(['chicken']), confidence=0.2905982905982906, lift=4.843304843304844)])\n"
          ],
          "name": "stdout"
        }
      ]
    },
    {
      "cell_type": "code",
      "metadata": {
        "colab": {
          "base_uri": "https://localhost:8080/"
        },
        "id": "Hm6pwl7V00p1",
        "outputId": "3789863c-022f-47fd-9ac8-9b37192662b3"
      },
      "source": [
        "for item in association_results:\n",
        "\n",
        "    # first index of the inner list\n",
        "    # Contains base item and add item\n",
        "    pair = item[0] \n",
        "    items = [x for x in pair]\n",
        "    print(\"Rule: \" + items[0] + \" -> \" + items[1])\n",
        "\n",
        "    #second index of the inner list\n",
        "    print(\"Support: \" + str(item[1]))\n",
        "\n",
        "    #third index of the list located at 0th\n",
        "    #of the third index of the inner list\n",
        "\n",
        "    print(\"Confidence: \" + str(item[2][0][2]))\n",
        "    print(\"Lift: \" + str(item[2][0][3]))\n",
        "    print(\"=====================================\")"
      ],
      "execution_count": 22,
      "outputs": [
        {
          "output_type": "stream",
          "text": [
            "Rule: chicken -> light cream\n",
            "Support: 0.00453333333333\n",
            "Confidence: 0.290598290598\n",
            "Lift: 4.8433048433\n",
            "=====================================\n",
            "Rule: escalope -> mushroom cream sauce\n",
            "Support: 0.00573333333333\n",
            "Confidence: 0.300699300699\n",
            "Lift: 3.79032731974\n",
            "=====================================\n",
            "Rule: pasta -> escalope\n",
            "Support: 0.00586666666667\n",
            "Confidence: 0.372881355932\n",
            "Lift: 4.70018515881\n",
            "=====================================\n",
            "Rule: herb & pepper -> ground beef\n",
            "Support: 0.016\n",
            "Confidence: 0.323450134771\n",
            "Lift: 3.29155496714\n",
            "=====================================\n",
            "Rule: tomato sauce -> ground beef\n",
            "Support: 0.00533333333333\n",
            "Confidence: 0.377358490566\n",
            "Lift: 3.84014746166\n",
            "=====================================\n",
            "Rule: olive oil -> whole wheat pasta\n",
            "Support: 0.008\n",
            "Confidence: 0.27149321267\n",
            "Lift: 4.13022128808\n",
            "=====================================\n",
            "Rule: pasta -> shrimp\n",
            "Support: 0.00506666666667\n",
            "Confidence: 0.322033898305\n",
            "Lift: 4.51449390147\n",
            "=====================================\n",
            "Rule: chicken -> nan\n",
            "Support: 0.00453333333333\n",
            "Confidence: 0.290598290598\n",
            "Lift: 4.8433048433\n",
            "=====================================\n",
            "Rule: frozen vegetables -> shrimp\n",
            "Support: 0.00533333333333\n",
            "Confidence: 0.232558139535\n",
            "Lift: 3.2601608346\n",
            "=====================================\n",
            "Rule: spaghetti -> ground beef\n",
            "Support: 0.0048\n",
            "Confidence: 0.571428571429\n",
            "Lift: 3.28155764603\n",
            "=====================================\n",
            "Rule: escalope -> nan\n",
            "Support: 0.00573333333333\n",
            "Confidence: 0.300699300699\n",
            "Lift: 3.79032731974\n",
            "=====================================\n",
            "Rule: pasta -> escalope\n",
            "Support: 0.00586666666667\n",
            "Confidence: 0.372881355932\n",
            "Lift: 4.70018515881\n",
            "=====================================\n",
            "Rule: frozen vegetables -> spaghetti\n",
            "Support: 0.00866666666667\n",
            "Confidence: 0.311004784689\n",
            "Lift: 3.16490622139\n",
            "=====================================\n",
            "Rule: olive oil -> frozen vegetables\n",
            "Support: 0.0048\n",
            "Confidence: 0.203389830508\n",
            "Lift: 3.09416577853\n",
            "=====================================\n",
            "Rule: mineral water -> frozen vegetables\n",
            "Support: 0.0072\n",
            "Confidence: 0.306818181818\n",
            "Lift: 3.21837253655\n",
            "=====================================\n",
            "Rule: olive oil -> frozen vegetables\n",
            "Support: 0.00573333333333\n",
            "Confidence: 0.205741626794\n",
            "Lift: 3.12994361249\n",
            "=====================================\n",
            "Rule: frozen vegetables -> spaghetti\n",
            "Support: 0.006\n",
            "Confidence: 0.215311004785\n",
            "Lift: 3.01837857175\n",
            "=====================================\n",
            "Rule: frozen vegetables -> spaghetti\n",
            "Support: 0.00666666666667\n",
            "Confidence: 0.239234449761\n",
            "Lift: 3.49757967486\n",
            "=====================================\n",
            "Rule: spaghetti -> ground beef\n",
            "Support: 0.00533333333333\n",
            "Confidence: 0.322580645161\n",
            "Lift: 3.2827067011\n",
            "=====================================\n",
            "Rule: mineral water -> herb & pepper\n",
            "Support: 0.00666666666667\n",
            "Confidence: 0.390625\n",
            "Lift: 3.97515264586\n",
            "=====================================\n",
            "Rule: nan -> herb & pepper\n",
            "Support: 0.016\n",
            "Confidence: 0.323450134771\n",
            "Lift: 3.29155496714\n",
            "=====================================\n",
            "Rule: spaghetti -> herb & pepper\n",
            "Support: 0.0064\n",
            "Confidence: 0.393442622951\n",
            "Lift: 4.00382587806\n",
            "=====================================\n",
            "Rule: olive oil -> milk\n",
            "Support: 0.00493333333333\n",
            "Confidence: 0.224242424242\n",
            "Lift: 3.41139590632\n",
            "=====================================\n",
            "Rule: tomato sauce -> nan\n",
            "Support: 0.00533333333333\n",
            "Confidence: 0.377358490566\n",
            "Lift: 3.84014746166\n",
            "=====================================\n",
            "Rule: spaghetti -> ground beef\n",
            "Support: 0.006\n",
            "Confidence: 0.523255813953\n",
            "Lift: 3.00491470494\n",
            "=====================================\n",
            "Rule: olive oil -> spaghetti\n",
            "Support: 0.0072\n",
            "Confidence: 0.203007518797\n",
            "Lift: 3.08834967744\n",
            "=====================================\n",
            "Rule: olive oil -> soup\n",
            "Support: 0.0052\n",
            "Confidence: 0.225433526012\n",
            "Lift: 3.42951611579\n",
            "=====================================\n",
            "Rule: olive oil -> whole wheat pasta\n",
            "Support: 0.008\n",
            "Confidence: 0.27149321267\n",
            "Lift: 4.13022128808\n",
            "=====================================\n",
            "Rule: pasta -> nan\n",
            "Support: 0.00506666666667\n",
            "Confidence: 0.322033898305\n",
            "Lift: 4.51449390147\n",
            "=====================================\n",
            "Rule: olive oil -> pancakes\n",
            "Support: 0.00506666666667\n",
            "Confidence: 0.201058201058\n",
            "Lift: 3.05869474226\n",
            "=====================================\n",
            "Rule: frozen vegetables -> nan\n",
            "Support: 0.00533333333333\n",
            "Confidence: 0.232558139535\n",
            "Lift: 3.2601608346\n",
            "=====================================\n",
            "Rule: spaghetti -> nan\n",
            "Support: 0.0048\n",
            "Confidence: 0.571428571429\n",
            "Lift: 3.28155764603\n",
            "=====================================\n",
            "Rule: spaghetti -> frozen vegetables\n",
            "Support: 0.00866666666667\n",
            "Confidence: 0.311004784689\n",
            "Lift: 3.16490622139\n",
            "=====================================\n",
            "Rule: mineral water -> frozen vegetables\n",
            "Support: 0.00453333333333\n",
            "Confidence: 0.28813559322\n",
            "Lift: 3.02240132749\n",
            "=====================================\n",
            "Rule: olive oil -> frozen vegetables\n",
            "Support: 0.0048\n",
            "Confidence: 0.203389830508\n",
            "Lift: 3.09416577853\n",
            "=====================================\n",
            "Rule: mineral water -> frozen vegetables\n",
            "Support: 0.0072\n",
            "Confidence: 0.306818181818\n",
            "Lift: 3.21837253655\n",
            "=====================================\n",
            "Rule: olive oil -> spaghetti\n",
            "Support: 0.00573333333333\n",
            "Confidence: 0.205741626794\n",
            "Lift: 3.12994361249\n",
            "=====================================\n",
            "Rule: spaghetti -> frozen vegetables\n",
            "Support: 0.006\n",
            "Confidence: 0.215311004785\n",
            "Lift: 3.01837857175\n",
            "=====================================\n",
            "Rule: spaghetti -> frozen vegetables\n",
            "Support: 0.00666666666667\n",
            "Confidence: 0.239234449761\n",
            "Lift: 3.49757967486\n",
            "=====================================\n",
            "Rule: spaghetti -> nan\n",
            "Support: 0.00533333333333\n",
            "Confidence: 0.322580645161\n",
            "Lift: 3.2827067011\n",
            "=====================================\n",
            "Rule: nan -> mineral water\n",
            "Support: 0.00666666666667\n",
            "Confidence: 0.390625\n",
            "Lift: 3.97515264586\n",
            "=====================================\n",
            "Rule: nan -> spaghetti\n",
            "Support: 0.0064\n",
            "Confidence: 0.393442622951\n",
            "Lift: 4.00382587806\n",
            "=====================================\n",
            "Rule: olive oil -> nan\n",
            "Support: 0.00493333333333\n",
            "Confidence: 0.224242424242\n",
            "Lift: 3.41139590632\n",
            "=====================================\n",
            "Rule: spaghetti -> nan\n",
            "Support: 0.006\n",
            "Confidence: 0.523255813953\n",
            "Lift: 3.00491470494\n",
            "=====================================\n",
            "Rule: olive oil -> spaghetti\n",
            "Support: 0.0072\n",
            "Confidence: 0.203007518797\n",
            "Lift: 3.08834967744\n",
            "=====================================\n",
            "Rule: olive oil -> soup\n",
            "Support: 0.0052\n",
            "Confidence: 0.225433526012\n",
            "Lift: 3.42951611579\n",
            "=====================================\n",
            "Rule: olive oil -> pancakes\n",
            "Support: 0.00506666666667\n",
            "Confidence: 0.201058201058\n",
            "Lift: 3.05869474226\n",
            "=====================================\n",
            "Rule: spaghetti -> mineral water\n",
            "Support: 0.00453333333333\n",
            "Confidence: 0.28813559322\n",
            "Lift: 3.02240132749\n",
            "=====================================\n"
          ],
          "name": "stdout"
        }
      ]
    },
    {
      "cell_type": "code",
      "metadata": {
        "collapsed": true,
        "id": "u1Jl3GbS00p3"
      },
      "source": [
        ""
      ],
      "execution_count": null,
      "outputs": []
    }
  ]
}